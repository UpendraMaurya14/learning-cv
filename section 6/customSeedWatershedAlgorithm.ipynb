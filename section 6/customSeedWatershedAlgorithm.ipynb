{
 "cells": [
  {
   "cell_type": "code",
   "execution_count": 1,
   "metadata": {},
   "outputs": [],
   "source": [
    "import cv2\n",
    "import numpy as np\n",
    "import matplotlib.pyplot as plt\n",
    "%matplotlib inline"
   ]
  },
  {
   "cell_type": "code",
   "execution_count": 2,
   "metadata": {},
   "outputs": [],
   "source": [
    "def display(img, cmap=None):\n",
    "    fig = plt.figure(figsize=(12,10))\n",
    "    ax=fig.add_subplot(111)\n",
    "    ax.imshow(img,cmap)\n",
    "\n",
    "def load():\n",
    "    img = cv2.imread('road_image.jpg')\n",
    "    return img"
   ]
  },
  {
   "cell_type": "code",
   "execution_count": 3,
   "metadata": {},
   "outputs": [],
   "source": [
    "road = load()\n",
    "road_copy = road.copy()"
   ]
  },
  {
   "cell_type": "code",
   "execution_count": 4,
   "metadata": {},
   "outputs": [],
   "source": [
    "marker_img = np.zeros(road.shape[:2],dtype=np.int32)\n",
    "segments = np.zeros(road.shape,dtype=np.uint8)"
   ]
  },
  {
   "cell_type": "code",
   "execution_count": 5,
   "metadata": {},
   "outputs": [],
   "source": [
    "from matplotlib import cm"
   ]
  },
  {
   "cell_type": "code",
   "execution_count": 6,
   "metadata": {},
   "outputs": [
    {
     "data": {
      "text/plain": [
       "(0.09019607843137255, 0.7450980392156863, 0.8117647058823529, 1.0)"
      ]
     },
     "execution_count": 6,
     "metadata": {},
     "output_type": "execute_result"
    }
   ],
   "source": [
    "cm.tab10(10)"
   ]
  },
  {
   "cell_type": "code",
   "execution_count": 7,
   "metadata": {},
   "outputs": [],
   "source": [
    "\"\"\"Creating a function to retrun rgb colors in tuple format without the alpha values\"\"\"\n",
    "\n",
    "\n",
    "\"\"\" np.array is used to convert returned value into an array out of \n",
    "    which obly fisrt 3 values are taken and the alpha value is skipped and then\n",
    "    it is normalised my multiplying with 255\"\"\"\n",
    "\n",
    "\n",
    "\"\"\"then the final array or rgb codes is returned as a tuple\n",
    "\"\"\"\n",
    "def create_rgb(i):\n",
    "    x=np.array(cm.tab10(i))[:3]*255            # \n",
    "    return tuple(x)"
   ]
  },
  {
   "cell_type": "code",
   "execution_count": 8,
   "metadata": {},
   "outputs": [],
   "source": [
    "\"\"\" now setting one color of each digit \"\"\"\n",
    "colors = []\n",
    "for i in range(10):\n",
    "    colors.append(create_rgb(i))         # now colors as 10 rbg codes in it\n",
    "    \n"
   ]
  },
  {
   "cell_type": "code",
   "execution_count": 9,
   "metadata": {},
   "outputs": [],
   "source": [
    "\"\"\" settting up the callback funtion \"\"\"\n",
    "\n",
    "n_markers = 10                 #number of markers\n",
    "curr_marker = 1                #current marker\n",
    "marks_updated = False\n",
    "\n",
    "def mouse_callback(event, x,y, flags, param):\n",
    "    global marks_updated\n",
    "    if(event == cv2.EVENT_LBUTTONDOWN):\n",
    "        cv2.circle(marker_img,(x,y),10,curr_marker,-1)\n",
    "        cv2.circle(road_copy,(x,y),10,colors[curr_marker],-1)\n",
    "        marks_updated=True\n"
   ]
  },
  {
   "cell_type": "code",
   "execution_count": 10,
   "metadata": {},
   "outputs": [],
   "source": [
    "\"\"\" creating named window \"\"\"\n",
    "\n",
    "\n",
    "cv2.namedWindow(\"Road Image\")\n",
    "cv2.setMouseCallback(\"Road Image\",mouse_callback)"
   ]
  },
  {
   "cell_type": "code",
   "execution_count": 11,
   "metadata": {},
   "outputs": [],
   "source": [
    "\"\"\" for displying the windows \"\"\"\n",
    "\n",
    "\n",
    "while True:\n",
    "    \n",
    "    cv2.imshow(\"Watershed Segments\",segments)\n",
    "    cv2.imshow(\"Road Image\",road_copy)\n",
    "\n",
    "    \n",
    "    # settings waitkey for user input\n",
    "    k=cv2.waitKey(1)\n",
    "    \n",
    "    if k == 27:    # break out of the loop\n",
    "        break\n",
    "        \n",
    "        \n",
    "    elif k == ord('c'):      # clear the output\n",
    "        road_copy = road.copy()\n",
    "        marker_img = np.zeros(road.shape[:2],dtype=np.int32)\n",
    "        segment = np.zeros(road.shape,dtype=np.uint8)\n",
    "        \n",
    "        # if k belongs to [0,9] its choosen index of color \n",
    "        if k >0 and chr(k).isdigit():\n",
    "            current_marker = int(chr(k))\n",
    "        \n",
    "        # if we click somehwere, call the watershed algo on our marker\n",
    "        if marks_updated:\n",
    "            marker_img_copy = marker_img.copy()\n",
    "            cv2.watershed(road,marker_img_copy)\n",
    "            segments = np.zeros(road.shape,dtype=np.uint8)\n",
    "            for colors_ind in range(n_markers):\n",
    "                segments[marker_img_copy==(colors_ind)]=colors[colors_ind]\n",
    "            marks_updated=True\n",
    "cv2.destroyAllWindows()"
   ]
  },
  {
   "cell_type": "code",
   "execution_count": null,
   "metadata": {},
   "outputs": [],
   "source": []
  }
 ],
 "metadata": {
  "kernelspec": {
   "display_name": "Python 3",
   "language": "python",
   "name": "python3"
  },
  "language_info": {
   "codemirror_mode": {
    "name": "ipython",
    "version": 3
   },
   "file_extension": ".py",
   "mimetype": "text/x-python",
   "name": "python",
   "nbconvert_exporter": "python",
   "pygments_lexer": "ipython3",
   "version": "3.6.6"
  }
 },
 "nbformat": 4,
 "nbformat_minor": 2
}
