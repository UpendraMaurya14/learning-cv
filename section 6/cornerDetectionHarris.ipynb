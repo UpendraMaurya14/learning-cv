{
 "cells": [
  {
   "cell_type": "code",
   "execution_count": 1,
   "metadata": {},
   "outputs": [],
   "source": [
    "import cv2\n",
    "import numpy as np\n",
    "import matplotlib.pyplot as plt\n",
    "%matplotlib inline"
   ]
  },
  {
   "cell_type": "code",
   "execution_count": 2,
   "metadata": {},
   "outputs": [],
   "source": [
    "flat_chessboard = cv2.cvtColor(cv2.imread('flat_chessboard.png'),cv2.COLOR_BGR2RGB)\n",
    "gray_flat_chessboard = cv2.cvtColor(cv2.imread('flat_chessboard.png'),cv2.COLOR_BGR2GRAY)\n",
    "real_chessboard = cv2.cvtColor(cv2.imread('real_chessboard.jpg'),cv2.COLOR_BGR2RGB)\n",
    "gray_real_chessboard = cv2.cvtColor(cv2.imread('real_chessboard.jpg'),cv2.COLOR_BGR2GRAY)"
   ]
  },
  {
   "cell_type": "code",
   "execution_count": 3,
   "metadata": {},
   "outputs": [],
   "source": [
    "gray_flat_chessboard = np.float32(gray_flat_chessboard)"
   ]
  },
  {
   "cell_type": "code",
   "execution_count": 4,
   "metadata": {},
   "outputs": [],
   "source": [
    "dst = cv2.cornerHarris(gray_flat_chessboard,2,3,0.04)"
   ]
  },
  {
   "cell_type": "code",
   "execution_count": 5,
   "metadata": {},
   "outputs": [],
   "source": [
    "dst = cv2.dilate(dst,None)"
   ]
  },
  {
   "cell_type": "code",
   "execution_count": 6,
   "metadata": {},
   "outputs": [
    {
     "data": {
      "text/plain": [
       "<matplotlib.image.AxesImage at 0x21a49942668>"
      ]
     },
     "execution_count": 6,
     "metadata": {},
     "output_type": "execute_result"
    },
    {
     "data": {
      "image/png": "[encoded data removed]",
      "text/plain": [
       "<Figure size 432x288 with 1 Axes>"
      ]
     },
     "metadata": {
      "needs_background": "light"
     },
     "output_type": "display_data"
    }
   ],
   "source": [
    "flat_chessboard[dst>0.01*dst.max()]=[255,0,0]\n",
    "plt.imshow(flat_chessboard)"
   ]
  },
  {
   "cell_type": "code",
   "execution_count": 10,
   "metadata": {},
   "outputs": [
    {
     "data": {
      "image/png": "[encoded data removed]",
      "text/plain": [
       "<Figure size 432x288 with 1 Axes>"
      ]
     },
     "metadata": {
      "needs_background": "light"
     },
     "output_type": "display_data"
    }
   ],
   "source": [
    "flat_chessboard = cv2.cvtColor(cv2.imread('flat_chessboard.png'),cv2.COLOR_BGR2RGB)\n",
    "gray_flat_chessboard = cv2.cvtColor(cv2.imread('flat_chessboard.png'),cv2.COLOR_BGR2GRAY)\n",
    "real_chessboard = cv2.cvtColor(cv2.imread('real_chessboard.jpg'),cv2.COLOR_BGR2RGB)\n",
    "gray_real_chessboard = cv2.cvtColor(cv2.imread('real_chessboard.jpg'),cv2.COLOR_BGR2GRAY)\n",
    "\n",
    "gray_flat_chessboard = np.float32(gray_flat_chessboard)\n",
    "\n",
    "dst = cv2.cornerHarris(gray_flat_chessboard,2,3,0.04)\n",
    "\n",
    "\n",
    "# plt.imshow(dst,cmap='gray')\n",
    "\n",
    "\n",
    "dst = cv2.dilate(dst,None)\n",
    "\n",
    "# plt.imshow(dst,cmap='gray')"
   ]
  },
  {
   "cell_type": "code",
   "execution_count": null,
   "metadata": {},
   "outputs": [],
   "source": []
  }
 ],
 "metadata": {
  "kernelspec": {
   "display_name": "Python 3",
   "language": "python",
   "name": "python3"
  },
  "language_info": {
   "codemirror_mode": {
    "name": "ipython",
    "version": 3
   },
   "file_extension": ".py",
   "mimetype": "text/x-python",
   "name": "python",
   "nbconvert_exporter": "python",
   "pygments_lexer": "ipython3",
   "version": "3.6.6"
  }
 },
 "nbformat": 4,
 "nbformat_minor": 2
}
