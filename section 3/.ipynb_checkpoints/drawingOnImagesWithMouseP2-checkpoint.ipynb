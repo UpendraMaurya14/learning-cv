{
 "cells": [
  {
   "cell_type": "code",
   "execution_count": 7,
   "metadata": {},
   "outputs": [],
   "source": [
    "import cv2\n",
    "import numpy as np\n",
    "\n",
    "########### funtion ############\n",
    "def drawCricle(event,x,y,flags,param):\n",
    "    if(event == cv2.EVENT_LBUTTONDOWN):\n",
    "        cv2.circle(img,(x,y),20,(255,255,255),-1)\n",
    "    elif(event == cv2.EVENT_RBUTTONDOWN):\n",
    "        cv2.circle(img,(x,y),20,(0,100,0),-1)\n",
    "\n",
    "cv2.namedWindow(\"img\",cv2.WINDOW_NORMAL)\n",
    "cv2.setMouseCallback(\"img\",drawCricle)\n",
    "###########  image display  ##########\n",
    "\n",
    "\n",
    "img = np.zeros((1000,1000,3))\n",
    "\n",
    "while True:\n",
    "    cv2.imshow(\"img\",img)\n",
    "    if(cv2.waitKey(20) & 0xff == 27):\n",
    "        break\n",
    "\n",
    "cv2.destroyAllWindows()\n",
    "\n"
   ]
  },
  {
   "cell_type": "code",
   "execution_count": null,
   "metadata": {},
   "outputs": [],
   "source": []
  }
 ],
 "metadata": {
  "kernelspec": {
   "display_name": "Python 3",
   "language": "python",
   "name": "python3"
  },
  "language_info": {
   "codemirror_mode": {
    "name": "ipython",
    "version": 3
   },
   "file_extension": ".py",
   "mimetype": "text/x-python",
   "name": "python",
   "nbconvert_exporter": "python",
   "pygments_lexer": "ipython3",
   "version": "3.6.6"
  }
 },
 "nbformat": 4,
 "nbformat_minor": 2
}
