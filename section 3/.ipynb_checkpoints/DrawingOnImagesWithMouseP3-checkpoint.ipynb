{
 "cells": [
  {
   "cell_type": "code",
   "execution_count": 3,
   "metadata": {},
   "outputs": [],
   "source": [
    "import numpy as np\n",
    "import cv2\n",
    "\n",
    "\n",
    "\n",
    "########## variables ##########\n",
    "\n",
    "draw = False\n",
    "ix , iy = -1 , -1\n",
    "\n",
    "######### function ###########\n",
    "def drawRectangle(event,x,y,flags,param):\n",
    "    \n",
    "    global ix,iy,draw\n",
    "    \n",
    "    if(event == cv2.EVENT_LBUTTONDOWN):\n",
    "        draw=True\n",
    "        ix , iy = x , y\n",
    "    elif(event == cv2.EVENT_MOUSEMOVE):\n",
    "        if drawing == True:\n",
    "            cv2.rectangle(img,(ix, iy),(x,y),(255,255,255),-1)\n",
    "    elif(event == cv2.EVENT_LBUTTONUP):\n",
    "        drawing = False\n",
    "        cv2.rectangle(img,(ix, iy),(x,y),(255,255,255),-1)\n",
    "\n",
    "\n",
    "########## showing image ###########\n",
    "\n",
    "img = np.zeros((1000,1000,3))\n",
    "\n",
    "cv2.namedWindow(\"img\",cv2.WINDOW_NORMAL)\n",
    "cv2.setMouseCallback(\"img\",drawRectangle)\n",
    "\n",
    "while True:\n",
    "    cv2.imshow(\"img\",img)\n",
    "    if( cv2.waitKey(20) & 0xff == 27 ):\n",
    "        break\n",
    "cv2.destroyAllWindows()\n"
   ]
  },
  {
   "cell_type": "code",
   "execution_count": null,
   "metadata": {},
   "outputs": [],
   "source": []
  }
 ],
 "metadata": {
  "kernelspec": {
   "display_name": "Python 3",
   "language": "python",
   "name": "python3"
  },
  "language_info": {
   "codemirror_mode": {
    "name": "ipython",
    "version": 3
   },
   "file_extension": ".py",
   "mimetype": "text/x-python",
   "name": "python",
   "nbconvert_exporter": "python",
   "pygments_lexer": "ipython3",
   "version": "3.6.6"
  }
 },
 "nbformat": 4,
 "nbformat_minor": 2
}
