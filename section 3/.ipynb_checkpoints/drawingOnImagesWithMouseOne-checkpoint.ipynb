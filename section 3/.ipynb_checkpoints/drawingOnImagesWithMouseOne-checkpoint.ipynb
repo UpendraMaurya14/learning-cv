{
 "cells": [
  {
   "cell_type": "code",
   "execution_count": 5,
   "metadata": {},
   "outputs": [],
   "source": [
    "import cv2\n",
    "import numpy as np\n",
    "import matplotlib.pyplot as plt\n",
    "%matplotlib inline\n",
    "\n",
    "\n",
    "\n",
    "\n",
    "################################\n",
    "######### Funtion ##############\n",
    "\n",
    "\n",
    "def drawCircle(event,x,y, flags, param):\n",
    "    if(event == cv2.EVENT_LBUTTONDOWN):\n",
    "        cv2.circle(img,(x,y),50,(255,255,255),-1)\n",
    "\n",
    "\n",
    "\n",
    "cv2.namedWindow(\"My_Drawing\",cv2.WINDOW_NORMAL)\n",
    "cv2.setMouseCallback(\"My_Drawing\",drawCircle)\n",
    "\n",
    "\n",
    "\n",
    "\n",
    "\n",
    "\n",
    "\n",
    "\n",
    "##################################\n",
    "######### Displaying Image #######\n",
    "\n",
    "\n",
    "img = np.zeros((512,512,3))\n",
    "\n",
    "\n",
    "while True:\n",
    "    \n",
    "    cv2.imshow(\"My_Drawing\", img)\n",
    "    \n",
    "    if( cv2.waitKey(20) & 0xff == 27 ):\n",
    "        break\n",
    "        \n",
    "cv2.destroyAllWindows()"
   ]
  },
  {
   "cell_type": "code",
   "execution_count": null,
   "metadata": {},
   "outputs": [],
   "source": []
  }
 ],
 "metadata": {
  "kernelspec": {
   "display_name": "Python 3",
   "language": "python",
   "name": "python3"
  },
  "language_info": {
   "codemirror_mode": {
    "name": "ipython",
    "version": 3
   },
   "file_extension": ".py",
   "mimetype": "text/x-python",
   "name": "python",
   "nbconvert_exporter": "python",
   "pygments_lexer": "ipython3",
   "version": "3.6.6"
  }
 },
 "nbformat": 4,
 "nbformat_minor": 2
}
