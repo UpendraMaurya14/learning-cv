{
 "cells": [
  {
   "cell_type": "code",
   "execution_count": 2,
   "metadata": {},
   "outputs": [],
   "source": [
    "import cv2\n",
    "import time\n",
    "\n",
    "cap = cv2.VideoCapture('hand_move.mp4')\n",
    "fps = cap.get(cv2.CAP_PROP_FRAME_COUNT)\n",
    "if cap.isOpened() == False:\n",
    "    print('Error')\n",
    "\n",
    "while cap.isOpened() == True:\n",
    "    ret , frame = cap.read()\n",
    "    \n",
    "    if ret == True :\n",
    "        cv2.imshow('Window',frame)\n",
    "        time.sleep(1/fps)\n",
    "        if(cv2.waitKey(10) & 0xff==27):\n",
    "            break\n",
    "    else:\n",
    "        break\n",
    "cap.release()\n",
    "cv2.destroyAllWindows()"
   ]
  },
  {
   "cell_type": "code",
   "execution_count": 1,
   "metadata": {},
   "outputs": [],
   "source": [
    "import cv2\n",
    "import time\n",
    "\n",
    "cap = cv2.VideoCapture('hand_move.mp4')\n",
    "fps= cap.get(cv2.CAP_PROP_FRAME_COUNT)\n",
    "if cap.isOpened() == False:\n",
    "    print ( 'Error')\n",
    "\n",
    "while cap.isOpened() == True:\n",
    "    \n",
    "    ret, frame = cap.read()\n",
    "    \n",
    "    time.sleep(1/fps)\n",
    "    cv2.imshow('window' , frame)\n",
    "    if( cv2.waitKey(10) & 0xff == 27):\n",
    "        break\n",
    "        \n",
    "cap.release()\n",
    "cv2.destroyAllWindows()"
   ]
  },
  {
   "cell_type": "code",
   "execution_count": null,
   "metadata": {},
   "outputs": [],
   "source": []
  }
 ],
 "metadata": {
  "kernelspec": {
   "display_name": "Python 3",
   "language": "python",
   "name": "python3"
  },
  "language_info": {
   "codemirror_mode": {
    "name": "ipython",
    "version": 3
   },
   "file_extension": ".py",
   "mimetype": "text/x-python",
   "name": "python",
   "nbconvert_exporter": "python",
   "pygments_lexer": "ipython3",
   "version": "3.6.6"
  }
 },
 "nbformat": 4,
 "nbformat_minor": 2
}
