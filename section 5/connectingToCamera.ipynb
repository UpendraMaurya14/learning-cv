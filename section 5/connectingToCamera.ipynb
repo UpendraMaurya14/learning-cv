{
 "cells": [
  {
   "cell_type": "code",
   "execution_count": null,
   "metadata": {},
   "outputs": [],
   "source": [
    "import cv2\n",
    "\n",
    "cap = cv2.VideoCapture(0)\n",
    "\n",
    "width = int(cap.get(cv2.CAP_PROP_FRAME_WIDTH))\n",
    "height = int(cap.get(cv2.CAP_PROP_FRAME_HEIGHT))\n",
    "\n",
    "writer = cv2.VideoWriter('test.mp4',cv2.VideoWriter_fourcc(*'DVIX'),20,(width,height))\n",
    "\n",
    "\n",
    "while True:\n",
    "    ret,frame = cap.read()\n",
    "#     gray = cv2.cvtColor(frame,cv2.COLOR_BGR2GRAY)\n",
    "#     cv2.imshow('Window',gray)\n",
    "    writer.write(frame)\n",
    "    cv2.imshow('Window',frame)\n",
    "    if(cv2.waitKey(1) & 0xff ==27):\n",
    "        break\n",
    "cap.release()\n",
    "writer.release()\n",
    "cv2.destroyAllWindows()"
   ]
  },
  {
   "cell_type": "code",
   "execution_count": null,
   "metadata": {},
   "outputs": [],
   "source": [
    "import cv2 \n",
    "cap = cv2.VideoCapture(0)\n",
    "\n",
    "width = int(cap.get(cv2.CAP_PROP_FRAME_WIDTH))\n",
    "height = int(cap.get(cv2.CAP_PROP_FRAME_HEIGHT))\n",
    "\n",
    "writer = cv2.VideoWriter('trial.mp4',cv2.VideoWriter_fourcc(*'DVIX'),20,(width,height))\n",
    "\n",
    "\n",
    "while True:\n",
    "    \n",
    "    ret , frame = cap.read()\n",
    "    writer.write(frame)\n",
    "    cv2.imshow('window',frame)\n",
    "    if( cv2.waitKey(10) & 0xff == 27):\n",
    "        break\n",
    "        \n",
    "\n",
    "\n",
    "writer.release()\n",
    "cap.release()\n",
    "cv2.destroyAllWindows()"
   ]
  },
  {
   "cell_type": "code",
   "execution_count": 1,
   "metadata": {},
   "outputs": [],
   "source": [
    "import cv2\n",
    "\n",
    "cap = cv2.VideoCapture(0)\n",
    "\n",
    "width = int(cap.get(cv2.CAP_PROP_FRAME_WIDTH))\n",
    "heigth = int(cap.get(cv2.CAP_PROP_FRAME_HEIGHT))\n",
    "\n",
    "writer = cv2.VideoWriter('trial.mp4',cv2.VideoWriter_fourcc(*'DVIX'),20,(width,heigth))\n",
    "\n",
    "while True:\n",
    "    \n",
    "    ret , frame = cap.read()\n",
    "    writer.write(frame)\n",
    "    cv2.imshow('window',frame)\n",
    "    if(cv2.waitKey(10) & 0xff == 27):\n",
    "        break\n",
    "\n",
    "cap.release()\n",
    "writer.release()\n",
    "cv2.destroyAllWindows()"
   ]
  },
  {
   "cell_type": "code",
   "execution_count": 1,
   "metadata": {},
   "outputs": [],
   "source": [
    "import cv2\n",
    "import time\n",
    "\n",
    "cap = cv2.VideoCapture('trial.mp4')\n",
    "fps = cap.get(cv2.CAP_PROP_FRAME_COUNT)\n",
    "while True:\n",
    "    ret, frame = cap.read()\n",
    "    if(ret == True):\n",
    "        cv2.imshow('window',frame)\n",
    "        time.sleep(1/fps)\n",
    "        if(cv2.waitKey(10) & 0xff == 27):\n",
    "            break\n",
    "    else:\n",
    "        break\n",
    "        \n",
    "cap.release()\n",
    "cv2.destroyAllWindows()"
   ]
  },
  {
   "cell_type": "code",
   "execution_count": 3,
   "metadata": {},
   "outputs": [],
   "source": []
  },
  {
   "cell_type": "code",
   "execution_count": null,
   "metadata": {},
   "outputs": [],
   "source": []
  }
 ],
 "metadata": {
  "kernelspec": {
   "display_name": "Python 3",
   "language": "python",
   "name": "python3"
  },
  "language_info": {
   "codemirror_mode": {
    "name": "ipython",
    "version": 3
   },
   "file_extension": ".py",
   "mimetype": "text/x-python",
   "name": "python",
   "nbconvert_exporter": "python",
   "pygments_lexer": "ipython3",
   "version": "3.6.6"
  }
 },
 "nbformat": 4,
 "nbformat_minor": 2
}
